{
 "cells": [
  {
   "cell_type": "code",
   "execution_count": 1,
   "id": "b4963f21-b630-4ffe-b80c-02da553e038c",
   "metadata": {},
   "outputs": [
    {
     "name": "stdout",
     "output_type": "stream",
     "text": [
      "Validation Accuracy: 0.853\n",
      "Validation Report:\n",
      "               precision    recall  f1-score   support\n",
      "\n",
      "       anger       0.94      0.79      0.85       275\n",
      "        fear       0.88      0.73      0.79       212\n",
      "         joy       0.83      0.95      0.89       704\n",
      "        love       0.88      0.60      0.71       178\n",
      "     sadness       0.84      0.94      0.89       550\n",
      "    surprise       0.88      0.52      0.65        81\n",
      "\n",
      "    accuracy                           0.85      2000\n",
      "   macro avg       0.87      0.75      0.80      2000\n",
      "weighted avg       0.86      0.85      0.85      2000\n",
      "\n",
      "Test Accuracy: 0.8475\n",
      "Test Report:\n",
      "               precision    recall  f1-score   support\n",
      "\n",
      "       anger       0.89      0.77      0.83       275\n",
      "        fear       0.86      0.74      0.80       224\n",
      "         joy       0.82      0.96      0.88       695\n",
      "        love       0.85      0.56      0.67       159\n",
      "     sadness       0.87      0.92      0.89       581\n",
      "    surprise       0.82      0.42      0.56        66\n",
      "\n",
      "    accuracy                           0.85      2000\n",
      "   macro avg       0.85      0.73      0.77      2000\n",
      "weighted avg       0.85      0.85      0.84      2000\n",
      "\n",
      "Model and vectorizer saved successfully.\n"
     ]
    }
   ],
   "source": [
    "import pandas as pd\n",
    "from sklearn.feature_extraction.text import TfidfVectorizer\n",
    "from sklearn.linear_model import LogisticRegression\n",
    "from sklearn.metrics import classification_report, accuracy_score\n",
    "import joblib\n",
    "\n",
    "# Load the datasets\n",
    "train_df = pd.read_csv(\"training_labeled.csv\")\n",
    "val_df = pd.read_csv(\"validation_labeled.csv\")\n",
    "test_df = pd.read_csv(\"test_labeled.csv\")\n",
    "\n",
    "# Prepare the data\n",
    "X_train = train_df['text']\n",
    "y_train = train_df['label']\n",
    "\n",
    "X_val = val_df['text']\n",
    "y_val = val_df['label']\n",
    "\n",
    "X_test = test_df['text']\n",
    "y_test = test_df['label']\n",
    "\n",
    "# Convert text data into TF-IDF features\n",
    "vectorizer = TfidfVectorizer(max_features=5000, ngram_range=(1, 2))\n",
    "X_train_vec = vectorizer.fit_transform(X_train)\n",
    "X_val_vec = vectorizer.transform(X_val)\n",
    "X_test_vec = vectorizer.transform(X_test)\n",
    "\n",
    "# Train the classifier\n",
    "model = LogisticRegression(max_iter=1000)\n",
    "model.fit(X_train_vec, y_train)\n",
    "\n",
    "# Evaluate on validation set\n",
    "val_preds = model.predict(X_val_vec)\n",
    "print(\"Validation Accuracy:\", accuracy_score(y_val, val_preds))\n",
    "print(\"Validation Report:\\n\", classification_report(y_val, val_preds))\n",
    "\n",
    "# Evaluate on test set\n",
    "test_preds = model.predict(X_test_vec)\n",
    "print(\"Test Accuracy:\", accuracy_score(y_test, test_preds))\n",
    "print(\"Test Report:\\n\", classification_report(y_test, test_preds))\n",
    "\n",
    "# Save the model and vectorizer\n",
    "joblib.dump(model, \"emotion_model.pkl\")\n",
    "joblib.dump(vectorizer, \"tfidf_vectorizer.pkl\")\n",
    "print(\"Model and vectorizer saved successfully.\")\n"
   ]
  }
 ],
 "metadata": {
  "kernelspec": {
   "display_name": "Python 3",
   "language": "python",
   "name": "python3"
  },
  "language_info": {
   "codemirror_mode": {
    "name": "ipython",
    "version": 3
   },
   "file_extension": ".py",
   "mimetype": "text/x-python",
   "name": "python",
   "nbconvert_exporter": "python",
   "pygments_lexer": "ipython3",
   "version": "3.12.1"
  }
 },
 "nbformat": 4,
 "nbformat_minor": 5
}
